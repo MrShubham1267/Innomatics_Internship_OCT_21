{
  "nbformat": 4,
  "nbformat_minor": 0,
  "metadata": {
    "kernelspec": {
      "display_name": "Python 3",
      "language": "python",
      "name": "python3"
    },
    "language_info": {
      "codemirror_mode": {
        "name": "ipython",
        "version": 3
      },
      "file_extension": ".py",
      "mimetype": "text/x-python",
      "name": "python",
      "nbconvert_exporter": "python",
      "pygments_lexer": "ipython3",
      "version": "3.8.5"
    },
    "colab": {
      "name": "Task-1_Shubham Bagade.ipynb",
      "provenance": []
    }
  },
  "cells": [
    {
      "cell_type": "markdown",
      "metadata": {
        "id": "skZx7L2ZxuQ_"
      },
      "source": [
        "### Q1:Say \"Hello, World!\" With Python\n",
        "\n",
        "![Q1.jpg](attachment:Q1.jpg)"
      ]
    },
    {
      "cell_type": "code",
      "metadata": {
        "id": "NGOWxJxHxuRC",
        "outputId": "9a00b8aa-74cf-4bd2-ec52-183b9fa960c9"
      },
      "source": [
        "my_string = \"Hello, World!\"\n",
        "print(my_string)\n"
      ],
      "execution_count": null,
      "outputs": [
        {
          "name": "stdout",
          "output_type": "stream",
          "text": [
            "Hello, World!\n"
          ]
        }
      ]
    },
    {
      "cell_type": "markdown",
      "metadata": {
        "id": "A0Nh2sIQxuRE"
      },
      "source": [
        "### Q2:Python If-Else\n",
        "\n",
        "![Q2-2.jpg](attachment:Q2-2.jpg)\n"
      ]
    },
    {
      "cell_type": "code",
      "metadata": {
        "id": "j2ATAoCuxuRF",
        "outputId": "35df2d12-3957-4b83-c784-ce665098c2b3"
      },
      "source": [
        "import math\n",
        "import os\n",
        "import random\n",
        "import re\n",
        "import sys\n",
        "\n",
        "\n",
        "\n",
        "if __name__ == '__main__':\n",
        "    n = int(input())\n",
        "    check = {True: \"Not Weird\", False: \"Weird\"}\n",
        "    print(check[n%2==0 and (n in range(2,6) or n > 20)])"
      ],
      "execution_count": null,
      "outputs": [
        {
          "name": "stdout",
          "output_type": "stream",
          "text": [
            "3\n",
            "Weird\n"
          ]
        }
      ]
    },
    {
      "cell_type": "markdown",
      "metadata": {
        "id": "Rcky1uPpxuRF"
      },
      "source": [
        "### Q3:Arithmatic Operators\n",
        "![Q3.jpg](attachment:Q3.jpg)"
      ]
    },
    {
      "cell_type": "code",
      "metadata": {
        "id": "5IzQLmEVxuRG",
        "outputId": "23ef0f51-4a09-4a25-fdf5-e9c91498c133"
      },
      "source": [
        "a = int(input())\n",
        "b = int(input())\n",
        "\n",
        "print('{0} \\n{1} \\n{2}'.format((a + b), (a - b), (a * b)))\n"
      ],
      "execution_count": null,
      "outputs": [
        {
          "name": "stdout",
          "output_type": "stream",
          "text": [
            "3\n",
            "2\n",
            "5 \n",
            "1 \n",
            "6\n"
          ]
        }
      ]
    },
    {
      "cell_type": "markdown",
      "metadata": {
        "id": "CTxWmbzAxuRG"
      },
      "source": [
        "### Q4:Python Division\n",
        "![Q4.jpg](attachment:Q4.jpg)"
      ]
    },
    {
      "cell_type": "code",
      "metadata": {
        "id": "0fxeZ1mDxuRH",
        "outputId": "882a704e-d21a-4f8a-a24d-0b3eb1856296"
      },
      "source": [
        "from __future__ import division\n",
        "\n",
        "if __name__ == '__main__':\n",
        "    a = int(input())\n",
        "    b = int(input())\n",
        "print('{0} \\n{1}'.format((a // b), (a / b)))"
      ],
      "execution_count": null,
      "outputs": [
        {
          "name": "stdout",
          "output_type": "stream",
          "text": [
            "4\n",
            "3\n",
            "1 \n",
            "1.3333333333333333\n"
          ]
        }
      ]
    },
    {
      "cell_type": "markdown",
      "metadata": {
        "id": "2haamQF9xuRI"
      },
      "source": [
        "### Q5:Loops\n",
        "![Q5.jpg](attachment:Q5.jpg)"
      ]
    },
    {
      "cell_type": "code",
      "metadata": {
        "id": "NPsf-PZNxuRI",
        "outputId": "1d146d9e-200c-4f38-895f-9242510489d9"
      },
      "source": [
        "if __name__ == '__main__':\n",
        "    n = int(input())\n",
        "    for i in range (n):\n",
        "        print(i*i)\n"
      ],
      "execution_count": null,
      "outputs": [
        {
          "name": "stdout",
          "output_type": "stream",
          "text": [
            "5\n",
            "0\n",
            "1\n",
            "4\n",
            "9\n",
            "16\n"
          ]
        }
      ]
    },
    {
      "cell_type": "markdown",
      "metadata": {
        "id": "-i55FSWgxuRJ"
      },
      "source": [
        "### Q6:Print Function\n",
        "![Q6.jpg](attachment:Q6.jpg)"
      ]
    },
    {
      "cell_type": "code",
      "metadata": {
        "id": "jE2mTM2GxuRJ",
        "outputId": "fbd644a2-ead2-4423-ef54-54a48361b89b"
      },
      "source": [
        "from __future__ import print_function\n",
        "\n",
        "if __name__ == '__main__':\n",
        "    n = int(input())\n",
        "\n",
        "for i in range(1, n+1):\n",
        "    print(i,end='')"
      ],
      "execution_count": null,
      "outputs": [
        {
          "name": "stdout",
          "output_type": "stream",
          "text": [
            "3\n",
            "123"
          ]
        }
      ]
    },
    {
      "cell_type": "markdown",
      "metadata": {
        "id": "DaFj8QuOxuRJ"
      },
      "source": [
        "### Q7:Write a function\n",
        "![Q7.jpg](attachment:Q7.jpg)"
      ]
    },
    {
      "cell_type": "code",
      "metadata": {
        "id": "BSmkMouuxuRK",
        "outputId": "7bc237f7-bffe-4bd0-8535-7898237b25ea"
      },
      "source": [
        "def is_leap(year):\n",
        "    if year % 400 == 0:\n",
        "        return True\n",
        "    if year % 100 == 0:\n",
        "        return False\n",
        "    if year % 4 == 0:\n",
        "        return True\n",
        "    else:\n",
        "        return False\n",
        "    \n",
        "year = int(input())\n",
        "print (is_leap(year))"
      ],
      "execution_count": null,
      "outputs": [
        {
          "name": "stdout",
          "output_type": "stream",
          "text": [
            "1900\n",
            "False\n"
          ]
        }
      ]
    }
  ]
}